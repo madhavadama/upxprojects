{
  "nbformat": 4,
  "nbformat_minor": 0,
  "metadata": {
    "kernelspec": {
      "display_name": "Python 3",
      "language": "python",
      "name": "python3"
    },
    "language_info": {
      "codemirror_mode": {
        "name": "ipython",
        "version": 3
      },
      "file_extension": ".py",
      "mimetype": "text/x-python",
      "name": "python",
      "nbconvert_exporter": "python",
      "pygments_lexer": "ipython3",
      "version": "3.7.3"
    },
    "colab": {
      "name": "Copy of Task1_sample.ipynb",
      "provenance": [],
      "collapsed_sections": [],
      "toc_visible": true,
      "include_colab_link": true
    }
  },
  "cells": [
    {
      "cell_type": "markdown",
      "metadata": {
        "id": "view-in-github",
        "colab_type": "text"
      },
      "source": [
        "<a href=\"https://colab.research.google.com/github/madhavadama/upxprojects/blob/master/Task1_sample.ipynb\" target=\"_parent\"><img src=\"https://colab.research.google.com/assets/colab-badge.svg\" alt=\"Open In Colab\"/></a>"
      ]
    },
    {
      "cell_type": "markdown",
      "metadata": {
        "id": "ezoOTgRO7jVz",
        "colab_type": "text"
      },
      "source": [
        "<img src=\"https://shwetkm.github.io/upxlogo.png\"></img>\n",
        "\n",
        "\n",
        "# Live Project - Productionize Machine Learning models - Task 1(sample)"
      ]
    },
    {
      "cell_type": "code",
      "metadata": {
        "id": "3I2LfebtAOu4",
        "colab_type": "code",
        "outputId": "d9528b4f-f324-4af5-e7cb-e1fa42026954",
        "colab": {
          "base_uri": "https://localhost:8080/",
          "height": 33
        }
      },
      "source": [
        "from google.colab import drive\n",
        "drive.mount('/content/drive')"
      ],
      "execution_count": 1,
      "outputs": [
        {
          "output_type": "stream",
          "text": [
            "Drive already mounted at /content/drive; to attempt to forcibly remount, call drive.mount(\"/content/drive\", force_remount=True).\n"
          ],
          "name": "stdout"
        }
      ]
    },
    {
      "cell_type": "code",
      "metadata": {
        "id": "FkNsWhnR7jV2",
        "colab_type": "code",
        "colab": {}
      },
      "source": [
        "#Import basic packages\n",
        "\n",
        "import warnings\n",
        "warnings.filterwarnings(\"ignore\")\n",
        "import time\n",
        "import pandas as pd               \n",
        "import numpy as np\n",
        "import pickle\n",
        "import sys\n",
        "\n",
        "import plotly\n",
        "from plotly.data import iris\n",
        "import sklearn\n",
        "from sklearn.model_selection import train_test_split   #splitting data\n",
        "from pylab import rcParams\n",
        "from sklearn.linear_model import LinearRegression         #linear regression\n",
        "from sklearn.metrics.regression import mean_squared_error #error metrics\n",
        "from sklearn.metrics import mean_absolute_error\n",
        "from sklearn.preprocessing import StandardScaler\n"
      ],
      "execution_count": 0,
      "outputs": []
    },
    {
      "cell_type": "code",
      "metadata": {
        "id": "T_Iwh0yKBl_A",
        "colab_type": "code",
        "colab": {}
      },
      "source": [
        "\n",
        "sys.path.append('/content/drive/My Drive/python/')"
      ],
      "execution_count": 0,
      "outputs": []
    },
    {
      "cell_type": "code",
      "metadata": {
        "id": "BsWXjt-y7jV6",
        "colab_type": "code",
        "colab": {}
      },
      "source": [
        "#Import dictionaries for setting basic parameters and model parameters\n",
        "from classifier_sc import classifier_config_dict,basic_params_dict, gridsearch_model_params_dict"
      ],
      "execution_count": 0,
      "outputs": []
    },
    {
      "cell_type": "code",
      "metadata": {
        "id": "Nc6diZIyIk-y",
        "colab_type": "code",
        "outputId": "2a483362-9f76-451c-9253-db3e5c0ca345",
        "colab": {
          "base_uri": "https://localhost:8080/",
          "height": 261
        }
      },
      "source": [
        "classifier_config_dict"
      ],
      "execution_count": 5,
      "outputs": [
        {
          "output_type": "execute_result",
          "data": {
            "text/plain": [
              "{'DecisionTreeClassifier': DecisionTreeClassifier(class_weight=None, criterion='gini', max_depth=None,\n",
              "                        max_features=None, max_leaf_nodes=None,\n",
              "                        min_impurity_decrease=0.0, min_impurity_split=None,\n",
              "                        min_samples_leaf=1, min_samples_split=2,\n",
              "                        min_weight_fraction_leaf=0.0, presort=False,\n",
              "                        random_state=None, splitter='best'),\n",
              " 'LogisticRegression': LogisticRegression(C=1.0, class_weight=None, dual=False, fit_intercept=True,\n",
              "                    intercept_scaling=1, l1_ratio=None, max_iter=100,\n",
              "                    multi_class='warn', n_jobs=None, penalty='l2',\n",
              "                    random_state=None, solver='warn', tol=0.0001, verbose=0,\n",
              "                    warm_start=False),\n",
              " 'SVM': SVC(C=1.0, cache_size=200, class_weight=None, coef0=0.0,\n",
              "     decision_function_shape='ovr', degree=3, gamma='auto_deprecated',\n",
              "     kernel='rbf', max_iter=-1, probability=False, random_state=None,\n",
              "     shrinking=True, tol=0.001, verbose=False)}"
            ]
          },
          "metadata": {
            "tags": []
          },
          "execution_count": 5
        }
      ]
    },
    {
      "cell_type": "code",
      "metadata": {
        "id": "kZ3kOXhH7jV8",
        "colab_type": "code",
        "colab": {}
      },
      "source": [
        "#Import Dataset\n",
        "df_iris = iris()"
      ],
      "execution_count": 0,
      "outputs": []
    },
    {
      "cell_type": "code",
      "metadata": {
        "id": "ZTs_nNA7IVR4",
        "colab_type": "code",
        "outputId": "195e8bc5-856f-4a67-ffe5-871dad214526",
        "colab": {
          "base_uri": "https://localhost:8080/",
          "height": 82
        }
      },
      "source": [
        "basic_params_dict"
      ],
      "execution_count": 0,
      "outputs": [
        {
          "output_type": "execute_result",
          "data": {
            "text/plain": [
              "{'X': ['sepal_length', 'sepal_width', 'petal_length', 'petal_width'],\n",
              " 'seed': 123,\n",
              " 'test_size': 0.3,\n",
              " 'y': ['species_id']}"
            ]
          },
          "metadata": {
            "tags": []
          },
          "execution_count": 7
        }
      ]
    },
    {
      "cell_type": "code",
      "metadata": {
        "id": "-piZocn5Igjf",
        "colab_type": "code",
        "outputId": "a70d05a5-66ca-42ae-9848-ff5bfd875591",
        "colab": {
          "base_uri": "https://localhost:8080/",
          "height": 115
        }
      },
      "source": [
        " gridsearch_model_params_dict"
      ],
      "execution_count": 7,
      "outputs": [
        {
          "output_type": "execute_result",
          "data": {
            "text/plain": [
              "{'DecisionTreeClassifier': {'max_depth': range(1, 20, 2),\n",
              "  'min_samples_split': range(10, 500, 20)},\n",
              " 'LogisticRegression': {'C': [0.001, 0.009, 0.01, 0.09, 1, 5, 10, 25],\n",
              "  'penalty': ['l1', 'l2']},\n",
              " 'SVM': [{'C': [1, 10], 'kernel': ['linear']},\n",
              "  {'C': [1, 10], 'gamma': [0.001, 0.0001], 'kernel': ['rbf']}]}"
            ]
          },
          "metadata": {
            "tags": []
          },
          "execution_count": 7
        }
      ]
    },
    {
      "cell_type": "code",
      "metadata": {
        "id": "RrKWHL597jV_",
        "colab_type": "code",
        "outputId": "888c86ad-2663-4ff3-ff12-dd3b95d10101",
        "colab": {
          "base_uri": "https://localhost:8080/",
          "height": 277
        }
      },
      "source": [
        "#View columns and paste in classifier_sc.py file with relevant columns\n",
        "df_iris.describe()"
      ],
      "execution_count": 9,
      "outputs": [
        {
          "output_type": "execute_result",
          "data": {
            "text/html": [
              "<div>\n",
              "<style scoped>\n",
              "    .dataframe tbody tr th:only-of-type {\n",
              "        vertical-align: middle;\n",
              "    }\n",
              "\n",
              "    .dataframe tbody tr th {\n",
              "        vertical-align: top;\n",
              "    }\n",
              "\n",
              "    .dataframe thead th {\n",
              "        text-align: right;\n",
              "    }\n",
              "</style>\n",
              "<table border=\"1\" class=\"dataframe\">\n",
              "  <thead>\n",
              "    <tr style=\"text-align: right;\">\n",
              "      <th></th>\n",
              "      <th>sepal_length</th>\n",
              "      <th>sepal_width</th>\n",
              "      <th>petal_length</th>\n",
              "      <th>petal_width</th>\n",
              "      <th>species_id</th>\n",
              "    </tr>\n",
              "  </thead>\n",
              "  <tbody>\n",
              "    <tr>\n",
              "      <th>count</th>\n",
              "      <td>150.000000</td>\n",
              "      <td>150.000000</td>\n",
              "      <td>150.000000</td>\n",
              "      <td>150.000000</td>\n",
              "      <td>150.000000</td>\n",
              "    </tr>\n",
              "    <tr>\n",
              "      <th>mean</th>\n",
              "      <td>5.843333</td>\n",
              "      <td>3.054000</td>\n",
              "      <td>3.758667</td>\n",
              "      <td>1.198667</td>\n",
              "      <td>2.000000</td>\n",
              "    </tr>\n",
              "    <tr>\n",
              "      <th>std</th>\n",
              "      <td>0.828066</td>\n",
              "      <td>0.433594</td>\n",
              "      <td>1.764420</td>\n",
              "      <td>0.763161</td>\n",
              "      <td>0.819232</td>\n",
              "    </tr>\n",
              "    <tr>\n",
              "      <th>min</th>\n",
              "      <td>4.300000</td>\n",
              "      <td>2.000000</td>\n",
              "      <td>1.000000</td>\n",
              "      <td>0.100000</td>\n",
              "      <td>1.000000</td>\n",
              "    </tr>\n",
              "    <tr>\n",
              "      <th>25%</th>\n",
              "      <td>5.100000</td>\n",
              "      <td>2.800000</td>\n",
              "      <td>1.600000</td>\n",
              "      <td>0.300000</td>\n",
              "      <td>1.000000</td>\n",
              "    </tr>\n",
              "    <tr>\n",
              "      <th>50%</th>\n",
              "      <td>5.800000</td>\n",
              "      <td>3.000000</td>\n",
              "      <td>4.350000</td>\n",
              "      <td>1.300000</td>\n",
              "      <td>2.000000</td>\n",
              "    </tr>\n",
              "    <tr>\n",
              "      <th>75%</th>\n",
              "      <td>6.400000</td>\n",
              "      <td>3.300000</td>\n",
              "      <td>5.100000</td>\n",
              "      <td>1.800000</td>\n",
              "      <td>3.000000</td>\n",
              "    </tr>\n",
              "    <tr>\n",
              "      <th>max</th>\n",
              "      <td>7.900000</td>\n",
              "      <td>4.400000</td>\n",
              "      <td>6.900000</td>\n",
              "      <td>2.500000</td>\n",
              "      <td>3.000000</td>\n",
              "    </tr>\n",
              "  </tbody>\n",
              "</table>\n",
              "</div>"
            ],
            "text/plain": [
              "       sepal_length  sepal_width  petal_length  petal_width  species_id\n",
              "count    150.000000   150.000000    150.000000   150.000000  150.000000\n",
              "mean       5.843333     3.054000      3.758667     1.198667    2.000000\n",
              "std        0.828066     0.433594      1.764420     0.763161    0.819232\n",
              "min        4.300000     2.000000      1.000000     0.100000    1.000000\n",
              "25%        5.100000     2.800000      1.600000     0.300000    1.000000\n",
              "50%        5.800000     3.000000      4.350000     1.300000    2.000000\n",
              "75%        6.400000     3.300000      5.100000     1.800000    3.000000\n",
              "max        7.900000     4.400000      6.900000     2.500000    3.000000"
            ]
          },
          "metadata": {
            "tags": []
          },
          "execution_count": 9
        }
      ]
    },
    {
      "cell_type": "code",
      "metadata": {
        "colab_type": "code",
        "id": "bmXz8NP7DdQg",
        "colab": {}
      },
      "source": [
        "from sklearn.model_selection import GridSearchCV\n",
        "# Create a class to perform base model operations\n",
        "class BaseModelHelper:\n",
        "    def __init__(self,base_param,base_model, base_model_param):\n",
        "        self.base_param = base_param\n",
        "        self.base_model = base_model\n",
        "        #Initialize X\n",
        "        self.X = self.base_param['X']\n",
        "        #Initialize y\n",
        "        self.y = self.base_param['y']\n",
        "        #set random seed\n",
        "        self.random_state = self.base_param['seed']\n",
        "        #Set test_size\n",
        "        self.test_size = self.base_param['test_size']\n",
        "        #set base model params\n",
        "        self.base_model_param = base_model_param\n",
        "        self.keys = base_model.keys()\n",
        "        self.grid_searches = {}\n",
        "\n",
        "     \n",
        "    #Function to standardize columns\n",
        "    def normalize_columns(self):\n",
        "        \n",
        "        X=df_iris[self.X]\n",
        "        self.y_norm=df_iris[self.y]\n",
        "\n",
        "        #Scale the values\n",
        "        scaler = StandardScaler()\n",
        "        scaler.fit(X)\n",
        "\n",
        "        # Scale and center the data\n",
        "        fdf_normalized = scaler.transform(X)\n",
        "\n",
        "        # Create a pandas DataFrame\n",
        "        fdf_normalized = pd.DataFrame(data=fdf_normalized, index=X.index, columns=X.columns)\n",
        "        \n",
        "        #scaler.fit(y)\n",
        "\n",
        "        # Scale and center the data\n",
        "        #y_normalized = scaler.transform(y)\n",
        "\n",
        "        # Create a pandas DataFrame\n",
        "        #self.y = pd.DataFrame(data=y_normalized, index=y.index, columns=y.columns)\n",
        "        #self.X=fdf_normalized\n",
        "        return fdf_normalized\n",
        "    def fit(self, X, y, cv=3, n_jobs=3, verbose=1, scoring=None, refit=False):\n",
        "        for key in self.keys:\n",
        "            print(\"Running GridSearchCV for %s.\" % key)\n",
        "            model = self.base_model[key]\n",
        "            params = self.base_model_param[key]\n",
        "            gs = GridSearchCV(model, params, cv=cv, n_jobs=n_jobs,\n",
        "                              verbose=verbose, scoring=scoring, refit=refit,\n",
        "                              return_train_score=True)\n",
        "            gs.fit(X,y)\n",
        "            self.grid_searches[key] = gs    \n",
        "\n",
        "    def grid_search(self):\n",
        "      self.fit(self.X, self.y_norm)\n",
        "    \n",
        "    def score_summary(self, sort_by='mean_score'):\n",
        "        def row(key, scores, params):\n",
        "            d = {\n",
        "                 'estimator': key,\n",
        "                 'min_score': min(scores),\n",
        "                 'max_score': max(scores),\n",
        "                 'mean_score': np.mean(scores),\n",
        "                 'std_score': np.std(scores),\n",
        "            }\n",
        "            return pd.Series({**params,**d})\n",
        "\n",
        "        rows = []\n",
        "        for k in self.grid_searches:\n",
        "            print(k)\n",
        "            params = self.grid_searches[k].cv_results_['params']\n",
        "            scores = []\n",
        "            for i in range(self.grid_searches[k].cv):\n",
        "                key = \"split{}_test_score\".format(i)\n",
        "                r = self.grid_searches[k].cv_results_[key]        \n",
        "                scores.append(r.reshape(len(params),1))\n",
        "\n",
        "            all_scores = np.hstack(scores)\n",
        "            for p, s in zip(params,all_scores):\n",
        "                rows.append((row(k, s, p)))\n",
        "\n",
        "        df = pd.concat(rows, axis=1).T.sort_values([sort_by], ascending=False)\n",
        "\n",
        "        columns = ['estimator', 'min_score', 'mean_score', 'max_score', 'std_score']\n",
        "        columns = columns + [c for c in df.columns if c not in columns]\n",
        "\n",
        "        return df[columns]\n",
        "\n",
        "    #Function to perform train test split\n",
        "    def train_test_split_base(self,X_norm):\n",
        "        self.X=X_norm\n",
        "        self.X_train, self.X_test, self.y_train, self.y_test = train_test_split(self.X,df_iris[self.y],random_state=self.random_state,test_size=self.test_size)\n",
        "    \n",
        "    #Building model\n",
        "    def model_build(self):\n",
        "        X_norm = self.normalize_columns()\n",
        "        b.train_test_split_base(X_norm)\n",
        "        for key in self.base_model:\n",
        "            model=self.base_model[key]\n",
        "            model.fit(self.X_train,self.y_train)\n",
        "            y_pred_test = model.predict(self.X_test)\n",
        "            return y_pred_test"
      ],
      "execution_count": 0,
      "outputs": []
    },
    {
      "cell_type": "code",
      "metadata": {
        "scrolled": false,
        "id": "rAha4uQu7jWF",
        "colab_type": "code",
        "colab": {}
      },
      "source": [
        "# Calling BaseModelHelper with basic_params_dict and classifier_config_dict from classifier_sc.py \n",
        "b=BaseModelHelper(basic_params_dict,classifier_config_dict, gridsearch_model_params_dict)\n",
        "b.normalize_columns()\n",
        "# Model Building\n",
        "y_pred_test=b.model_build()"
      ],
      "execution_count": 0,
      "outputs": []
    },
    {
      "cell_type": "code",
      "metadata": {
        "id": "KXgk8r4E7jWI",
        "colab_type": "code",
        "outputId": "27c43b5f-b48c-4b0b-8950-51f20b966290",
        "colab": {
          "base_uri": "https://localhost:8080/",
          "height": 66
        }
      },
      "source": [
        "#Output predictions\n",
        "y_pred_test"
      ],
      "execution_count": 37,
      "outputs": [
        {
          "output_type": "execute_result",
          "data": {
            "text/plain": [
              "array([2, 3, 3, 2, 1, 2, 2, 1, 1, 2, 3, 1, 2, 3, 3, 3, 1, 1, 2, 1, 1, 2,\n",
              "       1, 3, 1, 1, 1, 3, 3, 1, 3, 2, 1, 1, 2, 2, 3, 1, 1, 2, 2, 1, 3, 3,\n",
              "       3])"
            ]
          },
          "metadata": {
            "tags": []
          },
          "execution_count": 37
        }
      ]
    },
    {
      "cell_type": "code",
      "metadata": {
        "id": "m_tMJ-9fGCai",
        "colab_type": "code",
        "outputId": "1bd931ee-6a65-4def-d200-6553d4760abd",
        "colab": {
          "base_uri": "https://localhost:8080/",
          "height": 460
        }
      },
      "source": [
        "b.grid_search()"
      ],
      "execution_count": 38,
      "outputs": [
        {
          "output_type": "stream",
          "text": [
            "Running GridSearchCV for DecisionTreeClassifier.\n",
            "Fitting 3 folds for each of 250 candidates, totalling 750 fits\n"
          ],
          "name": "stdout"
        },
        {
          "output_type": "stream",
          "text": [
            "[Parallel(n_jobs=3)]: Using backend LokyBackend with 3 concurrent workers.\n",
            "[Parallel(n_jobs=3)]: Done 124 tasks      | elapsed:    3.4s\n",
            "[Parallel(n_jobs=3)]: Done 750 out of 750 | elapsed:    6.0s finished\n",
            "/usr/local/lib/python3.6/dist-packages/sklearn/model_selection/_search.py:814: DeprecationWarning:\n",
            "\n",
            "The default of the `iid` parameter will change from True to False in version 0.22 and will be removed in 0.24. This will change numeric results when test-set sizes are unequal.\n",
            "\n"
          ],
          "name": "stderr"
        },
        {
          "output_type": "stream",
          "text": [
            "Running GridSearchCV for LogisticRegression.\n",
            "Fitting 3 folds for each of 16 candidates, totalling 48 fits\n"
          ],
          "name": "stdout"
        },
        {
          "output_type": "stream",
          "text": [
            "[Parallel(n_jobs=3)]: Using backend LokyBackend with 3 concurrent workers.\n",
            "[Parallel(n_jobs=3)]: Done  43 out of  48 | elapsed:    2.8s remaining:    0.3s\n",
            "[Parallel(n_jobs=3)]: Done  48 out of  48 | elapsed:    2.9s finished\n",
            "/usr/local/lib/python3.6/dist-packages/sklearn/model_selection/_search.py:814: DeprecationWarning:\n",
            "\n",
            "The default of the `iid` parameter will change from True to False in version 0.22 and will be removed in 0.24. This will change numeric results when test-set sizes are unequal.\n",
            "\n"
          ],
          "name": "stderr"
        },
        {
          "output_type": "stream",
          "text": [
            "Running GridSearchCV for SVM.\n",
            "Fitting 3 folds for each of 6 candidates, totalling 18 fits\n"
          ],
          "name": "stdout"
        },
        {
          "output_type": "stream",
          "text": [
            "[Parallel(n_jobs=3)]: Using backend LokyBackend with 3 concurrent workers.\n",
            "[Parallel(n_jobs=3)]: Done  18 out of  18 | elapsed:    2.8s finished\n",
            "/usr/local/lib/python3.6/dist-packages/sklearn/model_selection/_search.py:814: DeprecationWarning:\n",
            "\n",
            "The default of the `iid` parameter will change from True to False in version 0.22 and will be removed in 0.24. This will change numeric results when test-set sizes are unequal.\n",
            "\n"
          ],
          "name": "stderr"
        }
      ]
    },
    {
      "cell_type": "code",
      "metadata": {
        "id": "RkaVE3wSLQuw",
        "colab_type": "code",
        "outputId": "515b96e8-2d80-4dd1-8089-4419f3186a66",
        "colab": {
          "base_uri": "https://localhost:8080/",
          "height": 440
        }
      },
      "source": [
        "b.score_summary()\n"
      ],
      "execution_count": 39,
      "outputs": [
        {
          "output_type": "stream",
          "text": [
            "DecisionTreeClassifier\n",
            "LogisticRegression\n",
            "SVM\n"
          ],
          "name": "stdout"
        },
        {
          "output_type": "execute_result",
          "data": {
            "text/html": [
              "<div>\n",
              "<style scoped>\n",
              "    .dataframe tbody tr th:only-of-type {\n",
              "        vertical-align: middle;\n",
              "    }\n",
              "\n",
              "    .dataframe tbody tr th {\n",
              "        vertical-align: top;\n",
              "    }\n",
              "\n",
              "    .dataframe thead th {\n",
              "        text-align: right;\n",
              "    }\n",
              "</style>\n",
              "<table border=\"1\" class=\"dataframe\">\n",
              "  <thead>\n",
              "    <tr style=\"text-align: right;\">\n",
              "      <th></th>\n",
              "      <th>estimator</th>\n",
              "      <th>min_score</th>\n",
              "      <th>mean_score</th>\n",
              "      <th>max_score</th>\n",
              "      <th>std_score</th>\n",
              "      <th>C</th>\n",
              "      <th>gamma</th>\n",
              "      <th>kernel</th>\n",
              "      <th>max_depth</th>\n",
              "      <th>min_samples_split</th>\n",
              "      <th>penalty</th>\n",
              "    </tr>\n",
              "  </thead>\n",
              "  <tbody>\n",
              "    <tr>\n",
              "      <th>267</th>\n",
              "      <td>SVM</td>\n",
              "      <td>0.921569</td>\n",
              "      <td>0.973856</td>\n",
              "      <td>1</td>\n",
              "      <td>0.0369729</td>\n",
              "      <td>10</td>\n",
              "      <td>NaN</td>\n",
              "      <td>linear</td>\n",
              "      <td>NaN</td>\n",
              "      <td>NaN</td>\n",
              "      <td>NaN</td>\n",
              "    </tr>\n",
              "    <tr>\n",
              "      <th>266</th>\n",
              "      <td>SVM</td>\n",
              "      <td>0.921569</td>\n",
              "      <td>0.973856</td>\n",
              "      <td>1</td>\n",
              "      <td>0.0369729</td>\n",
              "      <td>1</td>\n",
              "      <td>NaN</td>\n",
              "      <td>linear</td>\n",
              "      <td>NaN</td>\n",
              "      <td>NaN</td>\n",
              "      <td>NaN</td>\n",
              "    </tr>\n",
              "    <tr>\n",
              "      <th>264</th>\n",
              "      <td>LogisticRegression</td>\n",
              "      <td>0.921569</td>\n",
              "      <td>0.96732</td>\n",
              "      <td>1</td>\n",
              "      <td>0.0333269</td>\n",
              "      <td>25</td>\n",
              "      <td>NaN</td>\n",
              "      <td>NaN</td>\n",
              "      <td>NaN</td>\n",
              "      <td>NaN</td>\n",
              "      <td>l1</td>\n",
              "    </tr>\n",
              "    <tr>\n",
              "      <th>262</th>\n",
              "      <td>LogisticRegression</td>\n",
              "      <td>0.921569</td>\n",
              "      <td>0.96732</td>\n",
              "      <td>1</td>\n",
              "      <td>0.0333269</td>\n",
              "      <td>10</td>\n",
              "      <td>NaN</td>\n",
              "      <td>NaN</td>\n",
              "      <td>NaN</td>\n",
              "      <td>NaN</td>\n",
              "      <td>l1</td>\n",
              "    </tr>\n",
              "    <tr>\n",
              "      <th>260</th>\n",
              "      <td>LogisticRegression</td>\n",
              "      <td>0.901961</td>\n",
              "      <td>0.960784</td>\n",
              "      <td>1</td>\n",
              "      <td>0.0423578</td>\n",
              "      <td>5</td>\n",
              "      <td>NaN</td>\n",
              "      <td>NaN</td>\n",
              "      <td>NaN</td>\n",
              "      <td>NaN</td>\n",
              "      <td>l1</td>\n",
              "    </tr>\n",
              "    <tr>\n",
              "      <th>...</th>\n",
              "      <td>...</td>\n",
              "      <td>...</td>\n",
              "      <td>...</td>\n",
              "      <td>...</td>\n",
              "      <td>...</td>\n",
              "      <td>...</td>\n",
              "      <td>...</td>\n",
              "      <td>...</td>\n",
              "      <td>...</td>\n",
              "      <td>...</td>\n",
              "      <td>...</td>\n",
              "    </tr>\n",
              "    <tr>\n",
              "      <th>43</th>\n",
              "      <td>DecisionTreeClassifier</td>\n",
              "      <td>0.333333</td>\n",
              "      <td>0.333333</td>\n",
              "      <td>0.333333</td>\n",
              "      <td>0</td>\n",
              "      <td>NaN</td>\n",
              "      <td>NaN</td>\n",
              "      <td>NaN</td>\n",
              "      <td>3</td>\n",
              "      <td>370</td>\n",
              "      <td>NaN</td>\n",
              "    </tr>\n",
              "    <tr>\n",
              "      <th>137</th>\n",
              "      <td>DecisionTreeClassifier</td>\n",
              "      <td>0.333333</td>\n",
              "      <td>0.333333</td>\n",
              "      <td>0.333333</td>\n",
              "      <td>0</td>\n",
              "      <td>NaN</td>\n",
              "      <td>NaN</td>\n",
              "      <td>NaN</td>\n",
              "      <td>11</td>\n",
              "      <td>250</td>\n",
              "      <td>NaN</td>\n",
              "    </tr>\n",
              "    <tr>\n",
              "      <th>138</th>\n",
              "      <td>DecisionTreeClassifier</td>\n",
              "      <td>0.333333</td>\n",
              "      <td>0.333333</td>\n",
              "      <td>0.333333</td>\n",
              "      <td>0</td>\n",
              "      <td>NaN</td>\n",
              "      <td>NaN</td>\n",
              "      <td>NaN</td>\n",
              "      <td>11</td>\n",
              "      <td>270</td>\n",
              "      <td>NaN</td>\n",
              "    </tr>\n",
              "    <tr>\n",
              "      <th>139</th>\n",
              "      <td>DecisionTreeClassifier</td>\n",
              "      <td>0.333333</td>\n",
              "      <td>0.333333</td>\n",
              "      <td>0.333333</td>\n",
              "      <td>0</td>\n",
              "      <td>NaN</td>\n",
              "      <td>NaN</td>\n",
              "      <td>NaN</td>\n",
              "      <td>11</td>\n",
              "      <td>290</td>\n",
              "      <td>NaN</td>\n",
              "    </tr>\n",
              "    <tr>\n",
              "      <th>136</th>\n",
              "      <td>DecisionTreeClassifier</td>\n",
              "      <td>0.333333</td>\n",
              "      <td>0.333333</td>\n",
              "      <td>0.333333</td>\n",
              "      <td>0</td>\n",
              "      <td>NaN</td>\n",
              "      <td>NaN</td>\n",
              "      <td>NaN</td>\n",
              "      <td>11</td>\n",
              "      <td>230</td>\n",
              "      <td>NaN</td>\n",
              "    </tr>\n",
              "  </tbody>\n",
              "</table>\n",
              "<p>272 rows × 11 columns</p>\n",
              "</div>"
            ],
            "text/plain": [
              "                  estimator min_score  ... min_samples_split penalty\n",
              "267                     SVM  0.921569  ...               NaN     NaN\n",
              "266                     SVM  0.921569  ...               NaN     NaN\n",
              "264      LogisticRegression  0.921569  ...               NaN      l1\n",
              "262      LogisticRegression  0.921569  ...               NaN      l1\n",
              "260      LogisticRegression  0.901961  ...               NaN      l1\n",
              "..                      ...       ...  ...               ...     ...\n",
              "43   DecisionTreeClassifier  0.333333  ...               370     NaN\n",
              "137  DecisionTreeClassifier  0.333333  ...               250     NaN\n",
              "138  DecisionTreeClassifier  0.333333  ...               270     NaN\n",
              "139  DecisionTreeClassifier  0.333333  ...               290     NaN\n",
              "136  DecisionTreeClassifier  0.333333  ...               230     NaN\n",
              "\n",
              "[272 rows x 11 columns]"
            ]
          },
          "metadata": {
            "tags": []
          },
          "execution_count": 39
        }
      ]
    }
  ]
}